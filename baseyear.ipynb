{
 "cells": [
  {
   "cell_type": "code",
   "execution_count": 1,
   "metadata": {},
   "outputs": [
    {
     "data": {
      "application/vnd.jupyter.widget-view+json": {
       "model_id": "2683936e09414e1ab64410572949fc4f",
       "version_major": 2,
       "version_minor": 0
      },
      "text/plain": [
       "interactive(children=(FloatText(value=0.0, description='BYV:'), DatePicker(value=None, description='Date'), Ou…"
      ]
     },
     "metadata": {},
     "output_type": "display_data"
    },
    {
     "data": {
      "application/vnd.jupyter.widget-view+json": {
       "model_id": "5398e5ff76db4a3a9e21756c790c91bd",
       "version_major": 2,
       "version_minor": 0
      },
      "text/plain": [
       "interactive(children=(FloatText(value=0.0, description='BYV:'), DatePicker(value=None, description='Date'), Ou…"
      ]
     },
     "metadata": {},
     "output_type": "display_data"
    }
   ],
   "source": [
    "from __future__ import print_function\n",
    "from ipywidgets import interact, interactive, fixed, interact_manual\n",
    "from ipywidgets.embed import embed_minimal_html\n",
    "import ipywidgets as widgets\n",
    "from functools import reduce\n",
    "import math\n",
    "import datetime\n",
    "\n",
    "def excel_date(date1):\n",
    "    temp = datetime.datetime(1899, 12, 30)    # Note, not 31st Dec but 30th!\n",
    "    delta = date1 - temp\n",
    "    return float(delta.days) + (float(delta.seconds) / 86400)\n",
    "\n",
    "def f(value, date):\n",
    "    factor = [ 1,\t1.02,\t1.02,\t1.02,\t1.02,\t1.02,\t1.02,\t1.02,\t1.01,\t1.02,\t1.02,\t1.02,\t1.02,\t\n",
    "              1.02,\t1.02,\t1.02,\t1.02,\t1.02,\t1.02,\t1.02,\t1.0119,\t1.0111,\t1.02,\t1.02,\t1.01853,\t\n",
    "              1.02,\t1.02,\t1.02,\t1.02,\t1.01867,\t1.02,\t1.02,\t1.02,\t1.02,\t1.02,\t0.99763,\t\n",
    "              1.00753,\t1.02,\t1.02,\t1.00454,\t1.01998,\t1.01525,\t1.02,\t1.02,\t1.02,]\n",
    "    if date==None:\n",
    "      date = '\"1975-7-1\"'\n",
    "    else:\n",
    "      date = '\"'+str(date)+'\"'\n",
    "    #print(date)\n",
    "    date_st= date\n",
    "    d = datetime.datetime.strptime(date_st, '\"%Y-%m-%d\"')\n",
    "    d = excel_date(d)\n",
    "    d= math.floor((d-27576)/365.25)\n",
    "    i = d-44\n",
    "    factor = factor[i:]\n",
    "    factor.insert(0, value)\n",
    "   \n",
    "    \n",
    "    print('factored base year value: ', reduce(lambda x, y: math.floor(x*y),factor),'\\nbase date: ',date)\n",
    "    v1 = reduce(lambda x, y: math.floor(x*y),factor)\n",
    "    #return v1\n",
    "  \n",
    "\n",
    "i = interact(f, value=widgets.FloatText(value=0, description='BYV:', disabled=False),\n",
    "             date=widgets.DatePicker(description='Date', disabled=False))\n",
    "i2 = interact(f, value=widgets.FloatText(value=0, description='BYV:', disabled=False),\n",
    "             date=widgets.DatePicker(description='Date', disabled=False))\n",
    "\n"
   ]
  },
  {
   "cell_type": "code",
   "execution_count": null,
   "metadata": {},
   "outputs": [],
   "source": []
  }
 ],
 "metadata": {
  "kernelspec": {
   "display_name": "Python 3",
   "language": "python",
   "name": "python3"
  },
  "language_info": {
   "codemirror_mode": {
    "name": "ipython",
    "version": 3
   },
   "file_extension": ".py",
   "mimetype": "text/x-python",
   "name": "python",
   "nbconvert_exporter": "python",
   "pygments_lexer": "ipython3",
   "version": "3.7.7"
  },
  "varInspector": {
   "cols": {
    "lenName": 16,
    "lenType": 16,
    "lenVar": 40
   },
   "kernels_config": {
    "python": {
     "delete_cmd_postfix": "",
     "delete_cmd_prefix": "del ",
     "library": "var_list.py",
     "varRefreshCmd": "print(var_dic_list())"
    },
    "r": {
     "delete_cmd_postfix": ") ",
     "delete_cmd_prefix": "rm(",
     "library": "var_list.r",
     "varRefreshCmd": "cat(var_dic_list()) "
    }
   },
   "types_to_exclude": [
    "module",
    "function",
    "builtin_function_or_method",
    "instance",
    "_Feature"
   ],
   "window_display": false
  }
 },
 "nbformat": 4,
 "nbformat_minor": 4
}
